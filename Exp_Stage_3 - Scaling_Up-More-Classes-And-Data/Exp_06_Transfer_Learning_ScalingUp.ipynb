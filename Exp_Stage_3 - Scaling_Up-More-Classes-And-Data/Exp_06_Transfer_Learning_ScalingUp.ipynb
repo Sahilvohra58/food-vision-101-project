{
  "nbformat": 4,
  "nbformat_minor": 0,
  "metadata": {
    "colab": {
      "name": "Transfer-Learning-ScalingUp-Exp_06.ipynb",
      "provenance": [],
      "include_colab_link": true
    },
    "kernelspec": {
      "name": "python3",
      "display_name": "Python 3"
    },
    "language_info": {
      "name": "python"
    },
    "accelerator": "GPU"
  },
  "cells": [
    {
      "cell_type": "markdown",
      "metadata": {
        "id": "view-in-github",
        "colab_type": "text"
      },
      "source": [
        "<a href=\"https://colab.research.google.com/github/Sahilvohra58/food-vision-101-project/blob/main/Transfer_Learning_ScalingUp_Exp_06.ipynb\" target=\"_parent\"><img src=\"https://colab.research.google.com/assets/colab-badge.svg\" alt=\"Open In Colab\"/></a>"
      ]
    },
    {
      "cell_type": "code",
      "metadata": {
        "colab": {
          "base_uri": "https://localhost:8080/"
        },
        "id": "MODIAdQAjFbv",
        "outputId": "88a6d8a7-f7e9-4aa7-8666-b0e7359b48ce"
      },
      "source": [
        "from help_functions import create_callbacks, download_and_unzip, dir_explore, plot_loss_curve\n",
        "\n",
        "download_and_unzip('https://storage.googleapis.com/ztm_tf_course/food_vision/101_food_classes_10_percent.zip', '101_food_classes_10_percent.zip')\n",
        "train_dir = \"101_food_classes_10_percent/train/\"\n",
        "test_dir = \"101_food_classes_10_percent/test/\"\n",
        "dir_explore('101_food_classes_10_percent')"
      ],
      "execution_count": 1,
      "outputs": [
        {
          "output_type": "stream",
          "name": "stdout",
          "text": [
            "Beginning file download...\n",
            "There are 2 directories and 0 files in 101_food_classes_10_percent folder.\n",
            "There are 101 directories and 0 files in 101_food_classes_10_percent/train folder.\n",
            "There are 0 directories and 75 files in 101_food_classes_10_percent/train/carrot_cake folder.\n",
            "There are 0 directories and 75 files in 101_food_classes_10_percent/train/edamame folder.\n",
            "There are 0 directories and 75 files in 101_food_classes_10_percent/train/bread_pudding folder.\n",
            "There are 0 directories and 75 files in 101_food_classes_10_percent/train/lobster_roll_sandwich folder.\n",
            "There are 0 directories and 75 files in 101_food_classes_10_percent/train/beignets folder.\n",
            "There are 0 directories and 75 files in 101_food_classes_10_percent/train/tuna_tartare folder.\n",
            "There are 0 directories and 75 files in 101_food_classes_10_percent/train/crab_cakes folder.\n",
            "There are 0 directories and 75 files in 101_food_classes_10_percent/train/frozen_yogurt folder.\n",
            "There are 0 directories and 75 files in 101_food_classes_10_percent/train/omelette folder.\n",
            "There are 0 directories and 75 files in 101_food_classes_10_percent/train/pizza folder.\n",
            "There are 0 directories and 75 files in 101_food_classes_10_percent/train/french_toast folder.\n",
            "There are 0 directories and 75 files in 101_food_classes_10_percent/train/gyoza folder.\n",
            "There are 0 directories and 75 files in 101_food_classes_10_percent/train/croque_madame folder.\n",
            "There are 0 directories and 75 files in 101_food_classes_10_percent/train/creme_brulee folder.\n",
            "There are 0 directories and 75 files in 101_food_classes_10_percent/train/hot_dog folder.\n",
            "There are 0 directories and 75 files in 101_food_classes_10_percent/train/panna_cotta folder.\n",
            "There are 0 directories and 75 files in 101_food_classes_10_percent/train/ice_cream folder.\n",
            "There are 0 directories and 75 files in 101_food_classes_10_percent/train/beef_carpaccio folder.\n",
            "There are 0 directories and 75 files in 101_food_classes_10_percent/train/filet_mignon folder.\n",
            "There are 0 directories and 75 files in 101_food_classes_10_percent/train/chocolate_cake folder.\n",
            "There are 0 directories and 75 files in 101_food_classes_10_percent/train/tiramisu folder.\n",
            "There are 0 directories and 75 files in 101_food_classes_10_percent/train/sashimi folder.\n",
            "There are 0 directories and 75 files in 101_food_classes_10_percent/train/beef_tartare folder.\n",
            "There are 0 directories and 75 files in 101_food_classes_10_percent/train/spaghetti_carbonara folder.\n",
            "There are 0 directories and 75 files in 101_food_classes_10_percent/train/caesar_salad folder.\n",
            "There are 0 directories and 75 files in 101_food_classes_10_percent/train/chicken_wings folder.\n",
            "There are 0 directories and 75 files in 101_food_classes_10_percent/train/donuts folder.\n",
            "There are 0 directories and 75 files in 101_food_classes_10_percent/train/baby_back_ribs folder.\n",
            "There are 0 directories and 75 files in 101_food_classes_10_percent/train/samosa folder.\n",
            "There are 0 directories and 75 files in 101_food_classes_10_percent/train/oysters folder.\n",
            "There are 0 directories and 75 files in 101_food_classes_10_percent/train/pancakes folder.\n",
            "There are 0 directories and 75 files in 101_food_classes_10_percent/train/cheese_plate folder.\n",
            "There are 0 directories and 75 files in 101_food_classes_10_percent/train/apple_pie folder.\n",
            "There are 0 directories and 75 files in 101_food_classes_10_percent/train/spring_rolls folder.\n",
            "There are 0 directories and 75 files in 101_food_classes_10_percent/train/prime_rib folder.\n",
            "There are 0 directories and 75 files in 101_food_classes_10_percent/train/scallops folder.\n",
            "There are 0 directories and 75 files in 101_food_classes_10_percent/train/grilled_cheese_sandwich folder.\n",
            "There are 0 directories and 75 files in 101_food_classes_10_percent/train/pho folder.\n",
            "There are 0 directories and 75 files in 101_food_classes_10_percent/train/macaroni_and_cheese folder.\n",
            "There are 0 directories and 75 files in 101_food_classes_10_percent/train/nachos folder.\n",
            "There are 0 directories and 75 files in 101_food_classes_10_percent/train/club_sandwich folder.\n",
            "There are 0 directories and 75 files in 101_food_classes_10_percent/train/pulled_pork_sandwich folder.\n",
            "There are 0 directories and 75 files in 101_food_classes_10_percent/train/guacamole folder.\n",
            "There are 0 directories and 75 files in 101_food_classes_10_percent/train/hamburger folder.\n",
            "There are 0 directories and 75 files in 101_food_classes_10_percent/train/grilled_salmon folder.\n",
            "There are 0 directories and 75 files in 101_food_classes_10_percent/train/garlic_bread folder.\n",
            "There are 0 directories and 75 files in 101_food_classes_10_percent/train/hummus folder.\n",
            "There are 0 directories and 75 files in 101_food_classes_10_percent/train/deviled_eggs folder.\n",
            "There are 0 directories and 75 files in 101_food_classes_10_percent/train/strawberry_shortcake folder.\n",
            "There are 0 directories and 75 files in 101_food_classes_10_percent/train/falafel folder.\n",
            "There are 0 directories and 75 files in 101_food_classes_10_percent/train/eggs_benedict folder.\n",
            "There are 0 directories and 75 files in 101_food_classes_10_percent/train/baklava folder.\n",
            "There are 0 directories and 75 files in 101_food_classes_10_percent/train/fried_rice folder.\n",
            "There are 0 directories and 75 files in 101_food_classes_10_percent/train/sushi folder.\n",
            "There are 0 directories and 75 files in 101_food_classes_10_percent/train/lobster_bisque folder.\n",
            "There are 0 directories and 75 files in 101_food_classes_10_percent/train/macarons folder.\n",
            "There are 0 directories and 75 files in 101_food_classes_10_percent/train/shrimp_and_grits folder.\n",
            "There are 0 directories and 75 files in 101_food_classes_10_percent/train/takoyaki folder.\n",
            "There are 0 directories and 75 files in 101_food_classes_10_percent/train/chocolate_mousse folder.\n",
            "There are 0 directories and 75 files in 101_food_classes_10_percent/train/seaweed_salad folder.\n",
            "There are 0 directories and 75 files in 101_food_classes_10_percent/train/dumplings folder.\n",
            "There are 0 directories and 75 files in 101_food_classes_10_percent/train/bruschetta folder.\n",
            "There are 0 directories and 75 files in 101_food_classes_10_percent/train/miso_soup folder.\n",
            "There are 0 directories and 75 files in 101_food_classes_10_percent/train/cheesecake folder.\n",
            "There are 0 directories and 75 files in 101_food_classes_10_percent/train/onion_rings folder.\n",
            "There are 0 directories and 75 files in 101_food_classes_10_percent/train/huevos_rancheros folder.\n",
            "There are 0 directories and 75 files in 101_food_classes_10_percent/train/red_velvet_cake folder.\n",
            "There are 0 directories and 75 files in 101_food_classes_10_percent/train/mussels folder.\n",
            "There are 0 directories and 75 files in 101_food_classes_10_percent/train/foie_gras folder.\n",
            "There are 0 directories and 75 files in 101_food_classes_10_percent/train/greek_salad folder.\n",
            "There are 0 directories and 75 files in 101_food_classes_10_percent/train/fried_calamari folder.\n",
            "There are 0 directories and 75 files in 101_food_classes_10_percent/train/ceviche folder.\n",
            "There are 0 directories and 75 files in 101_food_classes_10_percent/train/ramen folder.\n",
            "There are 0 directories and 75 files in 101_food_classes_10_percent/train/chicken_quesadilla folder.\n",
            "There are 0 directories and 75 files in 101_food_classes_10_percent/train/cannoli folder.\n",
            "There are 0 directories and 75 files in 101_food_classes_10_percent/train/poutine folder.\n",
            "There are 0 directories and 75 files in 101_food_classes_10_percent/train/cup_cakes folder.\n",
            "There are 0 directories and 75 files in 101_food_classes_10_percent/train/pad_thai folder.\n",
            "There are 0 directories and 75 files in 101_food_classes_10_percent/train/lasagna folder.\n",
            "There are 0 directories and 75 files in 101_food_classes_10_percent/train/french_onion_soup folder.\n",
            "There are 0 directories and 75 files in 101_food_classes_10_percent/train/beet_salad folder.\n",
            "There are 0 directories and 75 files in 101_food_classes_10_percent/train/gnocchi folder.\n",
            "There are 0 directories and 75 files in 101_food_classes_10_percent/train/waffles folder.\n",
            "There are 0 directories and 75 files in 101_food_classes_10_percent/train/fish_and_chips folder.\n",
            "There are 0 directories and 75 files in 101_food_classes_10_percent/train/churros folder.\n",
            "There are 0 directories and 75 files in 101_food_classes_10_percent/train/risotto folder.\n",
            "There are 0 directories and 75 files in 101_food_classes_10_percent/train/clam_chowder folder.\n",
            "There are 0 directories and 75 files in 101_food_classes_10_percent/train/tacos folder.\n",
            "There are 0 directories and 75 files in 101_food_classes_10_percent/train/ravioli folder.\n",
            "There are 0 directories and 75 files in 101_food_classes_10_percent/train/hot_and_sour_soup folder.\n",
            "There are 0 directories and 75 files in 101_food_classes_10_percent/train/french_fries folder.\n",
            "There are 0 directories and 75 files in 101_food_classes_10_percent/train/bibimbap folder.\n",
            "There are 0 directories and 75 files in 101_food_classes_10_percent/train/breakfast_burrito folder.\n",
            "There are 0 directories and 75 files in 101_food_classes_10_percent/train/steak folder.\n",
            "There are 0 directories and 75 files in 101_food_classes_10_percent/train/peking_duck folder.\n",
            "There are 0 directories and 75 files in 101_food_classes_10_percent/train/chicken_curry folder.\n",
            "There are 0 directories and 75 files in 101_food_classes_10_percent/train/escargots folder.\n",
            "There are 0 directories and 75 files in 101_food_classes_10_percent/train/paella folder.\n",
            "There are 0 directories and 75 files in 101_food_classes_10_percent/train/spaghetti_bolognese folder.\n",
            "There are 0 directories and 75 files in 101_food_classes_10_percent/train/caprese_salad folder.\n",
            "There are 0 directories and 75 files in 101_food_classes_10_percent/train/pork_chop folder.\n",
            "There are 101 directories and 0 files in 101_food_classes_10_percent/test folder.\n",
            "There are 0 directories and 250 files in 101_food_classes_10_percent/test/carrot_cake folder.\n",
            "There are 0 directories and 250 files in 101_food_classes_10_percent/test/edamame folder.\n",
            "There are 0 directories and 250 files in 101_food_classes_10_percent/test/bread_pudding folder.\n",
            "There are 0 directories and 250 files in 101_food_classes_10_percent/test/lobster_roll_sandwich folder.\n",
            "There are 0 directories and 250 files in 101_food_classes_10_percent/test/beignets folder.\n",
            "There are 0 directories and 250 files in 101_food_classes_10_percent/test/tuna_tartare folder.\n",
            "There are 0 directories and 250 files in 101_food_classes_10_percent/test/crab_cakes folder.\n",
            "There are 0 directories and 250 files in 101_food_classes_10_percent/test/frozen_yogurt folder.\n",
            "There are 0 directories and 250 files in 101_food_classes_10_percent/test/omelette folder.\n",
            "There are 0 directories and 250 files in 101_food_classes_10_percent/test/pizza folder.\n",
            "There are 0 directories and 250 files in 101_food_classes_10_percent/test/french_toast folder.\n",
            "There are 0 directories and 250 files in 101_food_classes_10_percent/test/gyoza folder.\n",
            "There are 0 directories and 250 files in 101_food_classes_10_percent/test/croque_madame folder.\n",
            "There are 0 directories and 250 files in 101_food_classes_10_percent/test/creme_brulee folder.\n",
            "There are 0 directories and 250 files in 101_food_classes_10_percent/test/hot_dog folder.\n",
            "There are 0 directories and 250 files in 101_food_classes_10_percent/test/panna_cotta folder.\n",
            "There are 0 directories and 250 files in 101_food_classes_10_percent/test/ice_cream folder.\n",
            "There are 0 directories and 250 files in 101_food_classes_10_percent/test/beef_carpaccio folder.\n",
            "There are 0 directories and 250 files in 101_food_classes_10_percent/test/filet_mignon folder.\n",
            "There are 0 directories and 250 files in 101_food_classes_10_percent/test/chocolate_cake folder.\n",
            "There are 0 directories and 250 files in 101_food_classes_10_percent/test/tiramisu folder.\n",
            "There are 0 directories and 250 files in 101_food_classes_10_percent/test/sashimi folder.\n",
            "There are 0 directories and 250 files in 101_food_classes_10_percent/test/beef_tartare folder.\n",
            "There are 0 directories and 250 files in 101_food_classes_10_percent/test/spaghetti_carbonara folder.\n",
            "There are 0 directories and 250 files in 101_food_classes_10_percent/test/caesar_salad folder.\n",
            "There are 0 directories and 250 files in 101_food_classes_10_percent/test/chicken_wings folder.\n",
            "There are 0 directories and 250 files in 101_food_classes_10_percent/test/donuts folder.\n",
            "There are 0 directories and 250 files in 101_food_classes_10_percent/test/baby_back_ribs folder.\n",
            "There are 0 directories and 250 files in 101_food_classes_10_percent/test/samosa folder.\n",
            "There are 0 directories and 250 files in 101_food_classes_10_percent/test/oysters folder.\n",
            "There are 0 directories and 250 files in 101_food_classes_10_percent/test/pancakes folder.\n",
            "There are 0 directories and 250 files in 101_food_classes_10_percent/test/cheese_plate folder.\n",
            "There are 0 directories and 250 files in 101_food_classes_10_percent/test/apple_pie folder.\n",
            "There are 0 directories and 250 files in 101_food_classes_10_percent/test/spring_rolls folder.\n",
            "There are 0 directories and 250 files in 101_food_classes_10_percent/test/prime_rib folder.\n",
            "There are 0 directories and 250 files in 101_food_classes_10_percent/test/scallops folder.\n",
            "There are 0 directories and 250 files in 101_food_classes_10_percent/test/grilled_cheese_sandwich folder.\n",
            "There are 0 directories and 250 files in 101_food_classes_10_percent/test/pho folder.\n",
            "There are 0 directories and 250 files in 101_food_classes_10_percent/test/macaroni_and_cheese folder.\n",
            "There are 0 directories and 250 files in 101_food_classes_10_percent/test/nachos folder.\n",
            "There are 0 directories and 250 files in 101_food_classes_10_percent/test/club_sandwich folder.\n",
            "There are 0 directories and 250 files in 101_food_classes_10_percent/test/pulled_pork_sandwich folder.\n",
            "There are 0 directories and 250 files in 101_food_classes_10_percent/test/guacamole folder.\n",
            "There are 0 directories and 250 files in 101_food_classes_10_percent/test/hamburger folder.\n",
            "There are 0 directories and 250 files in 101_food_classes_10_percent/test/grilled_salmon folder.\n",
            "There are 0 directories and 250 files in 101_food_classes_10_percent/test/garlic_bread folder.\n",
            "There are 0 directories and 250 files in 101_food_classes_10_percent/test/hummus folder.\n",
            "There are 0 directories and 250 files in 101_food_classes_10_percent/test/deviled_eggs folder.\n",
            "There are 0 directories and 250 files in 101_food_classes_10_percent/test/strawberry_shortcake folder.\n",
            "There are 0 directories and 250 files in 101_food_classes_10_percent/test/falafel folder.\n",
            "There are 0 directories and 250 files in 101_food_classes_10_percent/test/eggs_benedict folder.\n",
            "There are 0 directories and 250 files in 101_food_classes_10_percent/test/baklava folder.\n",
            "There are 0 directories and 250 files in 101_food_classes_10_percent/test/fried_rice folder.\n",
            "There are 0 directories and 250 files in 101_food_classes_10_percent/test/sushi folder.\n",
            "There are 0 directories and 250 files in 101_food_classes_10_percent/test/lobster_bisque folder.\n",
            "There are 0 directories and 250 files in 101_food_classes_10_percent/test/macarons folder.\n",
            "There are 0 directories and 250 files in 101_food_classes_10_percent/test/shrimp_and_grits folder.\n",
            "There are 0 directories and 250 files in 101_food_classes_10_percent/test/takoyaki folder.\n",
            "There are 0 directories and 250 files in 101_food_classes_10_percent/test/chocolate_mousse folder.\n",
            "There are 0 directories and 250 files in 101_food_classes_10_percent/test/seaweed_salad folder.\n",
            "There are 0 directories and 250 files in 101_food_classes_10_percent/test/dumplings folder.\n",
            "There are 0 directories and 250 files in 101_food_classes_10_percent/test/bruschetta folder.\n",
            "There are 0 directories and 250 files in 101_food_classes_10_percent/test/miso_soup folder.\n",
            "There are 0 directories and 250 files in 101_food_classes_10_percent/test/cheesecake folder.\n",
            "There are 0 directories and 250 files in 101_food_classes_10_percent/test/onion_rings folder.\n",
            "There are 0 directories and 250 files in 101_food_classes_10_percent/test/huevos_rancheros folder.\n",
            "There are 0 directories and 250 files in 101_food_classes_10_percent/test/red_velvet_cake folder.\n",
            "There are 0 directories and 250 files in 101_food_classes_10_percent/test/mussels folder.\n",
            "There are 0 directories and 250 files in 101_food_classes_10_percent/test/foie_gras folder.\n",
            "There are 0 directories and 250 files in 101_food_classes_10_percent/test/greek_salad folder.\n",
            "There are 0 directories and 250 files in 101_food_classes_10_percent/test/fried_calamari folder.\n",
            "There are 0 directories and 250 files in 101_food_classes_10_percent/test/ceviche folder.\n",
            "There are 0 directories and 250 files in 101_food_classes_10_percent/test/ramen folder.\n",
            "There are 0 directories and 250 files in 101_food_classes_10_percent/test/chicken_quesadilla folder.\n",
            "There are 0 directories and 250 files in 101_food_classes_10_percent/test/cannoli folder.\n",
            "There are 0 directories and 250 files in 101_food_classes_10_percent/test/poutine folder.\n",
            "There are 0 directories and 250 files in 101_food_classes_10_percent/test/cup_cakes folder.\n",
            "There are 0 directories and 250 files in 101_food_classes_10_percent/test/pad_thai folder.\n",
            "There are 0 directories and 250 files in 101_food_classes_10_percent/test/lasagna folder.\n",
            "There are 0 directories and 250 files in 101_food_classes_10_percent/test/french_onion_soup folder.\n",
            "There are 0 directories and 250 files in 101_food_classes_10_percent/test/beet_salad folder.\n",
            "There are 0 directories and 250 files in 101_food_classes_10_percent/test/gnocchi folder.\n",
            "There are 0 directories and 250 files in 101_food_classes_10_percent/test/waffles folder.\n",
            "There are 0 directories and 250 files in 101_food_classes_10_percent/test/fish_and_chips folder.\n",
            "There are 0 directories and 250 files in 101_food_classes_10_percent/test/churros folder.\n",
            "There are 0 directories and 250 files in 101_food_classes_10_percent/test/risotto folder.\n",
            "There are 0 directories and 250 files in 101_food_classes_10_percent/test/clam_chowder folder.\n",
            "There are 0 directories and 250 files in 101_food_classes_10_percent/test/tacos folder.\n",
            "There are 0 directories and 250 files in 101_food_classes_10_percent/test/ravioli folder.\n",
            "There are 0 directories and 250 files in 101_food_classes_10_percent/test/hot_and_sour_soup folder.\n",
            "There are 0 directories and 250 files in 101_food_classes_10_percent/test/french_fries folder.\n",
            "There are 0 directories and 250 files in 101_food_classes_10_percent/test/bibimbap folder.\n",
            "There are 0 directories and 250 files in 101_food_classes_10_percent/test/breakfast_burrito folder.\n",
            "There are 0 directories and 250 files in 101_food_classes_10_percent/test/steak folder.\n",
            "There are 0 directories and 250 files in 101_food_classes_10_percent/test/peking_duck folder.\n",
            "There are 0 directories and 250 files in 101_food_classes_10_percent/test/chicken_curry folder.\n",
            "There are 0 directories and 250 files in 101_food_classes_10_percent/test/escargots folder.\n",
            "There are 0 directories and 250 files in 101_food_classes_10_percent/test/paella folder.\n",
            "There are 0 directories and 250 files in 101_food_classes_10_percent/test/spaghetti_bolognese folder.\n",
            "There are 0 directories and 250 files in 101_food_classes_10_percent/test/caprese_salad folder.\n",
            "There are 0 directories and 250 files in 101_food_classes_10_percent/test/pork_chop folder.\n"
          ]
        }
      ]
    },
    {
      "cell_type": "code",
      "metadata": {
        "colab": {
          "base_uri": "https://localhost:8080/"
        },
        "id": "dEdRfKD9k5M5",
        "outputId": "c1ac99c4-8f7c-4535-f6fc-a1366a787717"
      },
      "source": [
        "image_size=(224,224)\n",
        "import tensorflow as tf\n",
        "tf.random.set_seed = 42\n",
        "\n",
        "train_data = tf.keras.utils.image_dataset_from_directory(\n",
        "    train_dir, labels='inferred', label_mode='categorical', image_size=image_size)\n",
        "\n",
        "test_data = tf.keras.utils.image_dataset_from_directory(\n",
        "    test_dir, labels='inferred', label_mode='categorical', image_size=image_size, shuffle = False)"
      ],
      "execution_count": 2,
      "outputs": [
        {
          "output_type": "stream",
          "name": "stdout",
          "text": [
            "Found 7575 files belonging to 101 classes.\n",
            "Found 25250 files belonging to 101 classes.\n"
          ]
        }
      ]
    },
    {
      "cell_type": "code",
      "metadata": {
        "id": "oQQyIr3XnCqA"
      },
      "source": [
        "from tensorflow.keras.models import Sequential\n",
        "from tensorflow.keras.layers.experimental import preprocessing\n",
        "data_augmentation = Sequential([\n",
        "      preprocessing.RandomFlip(mode = 'horizontal'),\n",
        "      preprocessing.RandomHeight(factor=(0.2, 0.3)),\n",
        "      preprocessing.RandomRotation(factor=(-0.2, 0.3)),\n",
        "      preprocessing.RandomWidth(factor=(0.2, 0.3)),\n",
        "      preprocessing.RandomZoom(height_factor=(0.2, 0.3))\n",
        "                                ])"
      ],
      "execution_count": 3,
      "outputs": []
    },
    {
      "cell_type": "code",
      "metadata": {
        "colab": {
          "base_uri": "https://localhost:8080/"
        },
        "id": "C4xHg7kMqdge",
        "outputId": "6bb1448c-9819-4d9b-b08d-39363d2b2cad"
      },
      "source": [
        "import os\n",
        "len(os.listdir(train_dir))"
      ],
      "execution_count": 4,
      "outputs": [
        {
          "output_type": "execute_result",
          "data": {
            "text/plain": [
              "101"
            ]
          },
          "metadata": {},
          "execution_count": 4
        }
      ]
    },
    {
      "cell_type": "code",
      "metadata": {
        "colab": {
          "base_uri": "https://localhost:8080/"
        },
        "id": "xdOJ6Z-eoDNJ",
        "outputId": "af3619d9-4533-4226-8cc6-fd526b66711f"
      },
      "source": [
        "from tensorflow import keras\n",
        "base_model = tf.keras.applications.EfficientNetB0(include_top=False)\n",
        "base_model.trainable = False\n",
        "input = tf.keras.layers.Input(shape=image_size+(3,), name = 'input_layer')\n",
        "\n",
        "x = data_augmentation(input)\n",
        "x = base_model(x, training = False)\n",
        "x = tf.keras.layers.GlobalAveragePooling2D(name = 'GlobalAveragePooling2D_Layer')(x)\n",
        "output = tf.keras.layers.Dense(len(os.listdir(train_dir)), activation='softmax')(x)\n",
        "\n",
        "model = keras.Model(input, output)"
      ],
      "execution_count": 5,
      "outputs": [
        {
          "output_type": "stream",
          "name": "stdout",
          "text": [
            "Downloading data from https://storage.googleapis.com/keras-applications/efficientnetb0_notop.h5\n",
            "16711680/16705208 [==============================] - 0s 0us/step\n",
            "16719872/16705208 [==============================] - 0s 0us/step\n"
          ]
        }
      ]
    },
    {
      "cell_type": "code",
      "metadata": {
        "id": "Fr9EnBe0q4xW"
      },
      "source": [
        "base_model.trainable = True\n",
        "for layer in base_model.layers[:-10]:\n",
        "  layer.trainable = False"
      ],
      "execution_count": 6,
      "outputs": []
    },
    {
      "cell_type": "code",
      "metadata": {
        "id": "4KuqFBCUrAoK"
      },
      "source": [
        "# for layer in base_model.layers:\n",
        "#   print(layer, layer.trainable)"
      ],
      "execution_count": 7,
      "outputs": []
    },
    {
      "cell_type": "code",
      "metadata": {
        "colab": {
          "base_uri": "https://localhost:8080/"
        },
        "id": "Qg_WhrgrrtCh",
        "outputId": "fcdf3517-c13f-4901-dd34-894fc2e3fc0c"
      },
      "source": [
        "import datetime\n",
        "model.compile(loss = 'categorical_crossentropy', optimizer=tf.keras.optimizers.Adam(), metrics = ['accuracy'])\n",
        "\n",
        "log_dir = \"Tensorboard/FineTuning/EfficientNet_ScalingUp/\" + datetime.datetime.now().strftime(\"%Y%m%d-%H%M%S\")\n",
        "callbacks = [tf.keras.callbacks.LearningRateScheduler(lambda epoch: 1e-4 * 10 ** (epoch / 20), verbose=0),\n",
        "                 tf.keras.callbacks.EarlyStopping(monitor='val_accuracy',\n",
        "                                                  patience=5,\n",
        "                                                  verbose=0),\n",
        "                 tf.keras.callbacks.ModelCheckpoint(\n",
        "                     filepath='Models_checkpoint_EfficientNet_ScalingUp/model_ep_{epoch:02d}_val_accuracy_{val_accuracy:.4f}.ckpt',\n",
        "                     # file path format: \"Model_checkpoint_Classification_2/cp-{epoch:02d}-{val_loss:.02f}.ckpt\"\n",
        "                     save_weights_only=True,\n",
        "                     verbose=0),\n",
        "                tf.keras.callbacks.TensorBoard(log_dir=log_dir)\n",
        "                ]\n",
        "\n",
        "\n",
        "\n",
        "history = model.fit(train_data, \n",
        "                    epochs = 5,\n",
        "                    steps_per_epoch = len(train_data),\n",
        "                    validation_data = test_data,\n",
        "                    validation_steps = int(0.15*(len(test_data))),\n",
        "                    callbacks = callbacks,\n",
        "                    shuffle=True)"
      ],
      "execution_count": 13,
      "outputs": [
        {
          "output_type": "stream",
          "name": "stderr",
          "text": [
            "/usr/local/lib/python3.7/dist-packages/keras/engine/functional.py:1410: CustomMaskWarning: Custom mask layers require a config and must override get_config. When loading, the custom mask layer must be passed to the custom_objects argument.\n",
            "  layer_config = serialize_layer_fn(layer)\n"
          ]
        },
        {
          "output_type": "stream",
          "name": "stdout",
          "text": [
            "Epoch 1/5\n",
            "237/237 [==============================] - 81s 307ms/step - loss: 1.3407 - accuracy: 0.6499 - val_loss: 2.1340 - val_accuracy: 0.4857 - lr: 1.0000e-04\n",
            "Epoch 2/5\n",
            "237/237 [==============================] - 68s 286ms/step - loss: 1.2190 - accuracy: 0.6808 - val_loss: 2.1235 - val_accuracy: 0.4881 - lr: 1.1220e-04\n",
            "Epoch 3/5\n",
            "237/237 [==============================] - 68s 285ms/step - loss: 1.1400 - accuracy: 0.6990 - val_loss: 2.0547 - val_accuracy: 0.5034 - lr: 1.2589e-04\n",
            "Epoch 4/5\n",
            "237/237 [==============================] - 67s 281ms/step - loss: 1.0720 - accuracy: 0.7040 - val_loss: 2.1011 - val_accuracy: 0.4981 - lr: 1.4125e-04\n",
            "Epoch 5/5\n",
            "237/237 [==============================] - 67s 280ms/step - loss: 1.0031 - accuracy: 0.7295 - val_loss: 2.1254 - val_accuracy: 0.4942 - lr: 1.5849e-04\n"
          ]
        }
      ]
    },
    {
      "cell_type": "code",
      "metadata": {
        "id": "oIdiO8w3tpqN"
      },
      "source": [
        "# import shutil\n",
        "# shutil.rmtree('TensorBoard')"
      ],
      "execution_count": 9,
      "outputs": []
    },
    {
      "cell_type": "code",
      "metadata": {
        "colab": {
          "base_uri": "https://localhost:8080/"
        },
        "id": "tq40ZS2evxUV",
        "outputId": "7b8b3f3b-d4b9-4a8a-a2cb-af40e5890638"
      },
      "source": [
        "model.load_weights('Models_checkpoint_EfficientNet_ScalingUp/model_ep_05_val_accuracy_0.4942.ckpt')\n",
        "history = model.fit(train_data, \n",
        "                    epochs = 10,\n",
        "                    initial_epoch = 4,\n",
        "                    steps_per_epoch = len(train_data),\n",
        "                    validation_data = test_data,\n",
        "                    validation_steps = int(0.15*(len(test_data))),\n",
        "                    callbacks = callbacks,\n",
        "                    shuffle=True)"
      ],
      "execution_count": 15,
      "outputs": [
        {
          "output_type": "stream",
          "name": "stderr",
          "text": [
            "/usr/local/lib/python3.7/dist-packages/keras/engine/functional.py:1410: CustomMaskWarning: Custom mask layers require a config and must override get_config. When loading, the custom mask layer must be passed to the custom_objects argument.\n",
            "  layer_config = serialize_layer_fn(layer)\n"
          ]
        },
        {
          "output_type": "stream",
          "name": "stdout",
          "text": [
            "Epoch 5/10\n",
            "237/237 [==============================] - 67s 279ms/step - loss: 0.9274 - accuracy: 0.7464 - val_loss: 2.1378 - val_accuracy: 0.4931 - lr: 1.5849e-04\n",
            "Epoch 6/10\n",
            "237/237 [==============================] - 66s 278ms/step - loss: 0.8839 - accuracy: 0.7624 - val_loss: 2.1253 - val_accuracy: 0.5016 - lr: 1.7783e-04\n",
            "Epoch 7/10\n",
            "237/237 [==============================] - 66s 275ms/step - loss: 0.8337 - accuracy: 0.7702 - val_loss: 2.2085 - val_accuracy: 0.4828 - lr: 1.9953e-04\n",
            "Epoch 8/10\n",
            "237/237 [==============================] - 66s 277ms/step - loss: 0.7676 - accuracy: 0.7917 - val_loss: 2.2060 - val_accuracy: 0.4889 - lr: 2.2387e-04\n",
            "Epoch 9/10\n",
            "237/237 [==============================] - 66s 275ms/step - loss: 0.7302 - accuracy: 0.8005 - val_loss: 2.2946 - val_accuracy: 0.4785 - lr: 2.5119e-04\n",
            "Epoch 10/10\n",
            "237/237 [==============================] - 66s 278ms/step - loss: 0.6912 - accuracy: 0.8063 - val_loss: 2.2305 - val_accuracy: 0.4958 - lr: 2.8184e-04\n"
          ]
        }
      ]
    },
    {
      "cell_type": "code",
      "metadata": {
        "colab": {
          "base_uri": "https://localhost:8080/"
        },
        "id": "2NpqWGCpy5JP",
        "outputId": "29fb471b-36cf-443b-d270-b09f9935ec4a"
      },
      "source": [
        "results = model.evaluate(test_data)\n",
        "results #[1.8664792776107788, 0.5666534900665283]"
      ],
      "execution_count": 17,
      "outputs": [
        {
          "output_type": "stream",
          "name": "stdout",
          "text": [
            "790/790 [==============================] - 104s 132ms/step - loss: 1.8665 - accuracy: 0.5667\n"
          ]
        },
        {
          "output_type": "execute_result",
          "data": {
            "text/plain": [
              "[1.8664792776107788, 0.5666534900665283]"
            ]
          },
          "metadata": {},
          "execution_count": 17
        }
      ]
    },
    {
      "cell_type": "code",
      "metadata": {
        "colab": {
          "base_uri": "https://localhost:8080/"
        },
        "id": "PVnQA-ui06us",
        "outputId": "23f01275-d017-415c-820e-d47d492d7933"
      },
      "source": [
        "pred_probs = model.predict(test_data, verbose=1)"
      ],
      "execution_count": 18,
      "outputs": [
        {
          "output_type": "stream",
          "name": "stdout",
          "text": [
            "790/790 [==============================] - 99s 123ms/step\n"
          ]
        }
      ]
    },
    {
      "cell_type": "code",
      "metadata": {
        "colab": {
          "base_uri": "https://localhost:8080/"
        },
        "id": "nx_TCBlv1pR4",
        "outputId": "3303ef61-e8bf-47a7-f098-3102d2b24200"
      },
      "source": [
        "pred = pred_probs.argmax(axis=1)\n",
        "pred"
      ],
      "execution_count": 20,
      "outputs": [
        {
          "output_type": "execute_result",
          "data": {
            "text/plain": [
              "array([  0,   0,   0, ...,  56,  94, 100])"
            ]
          },
          "metadata": {},
          "execution_count": 20
        }
      ]
    },
    {
      "cell_type": "code",
      "metadata": {
        "id": "JNGSdPBu2Cyd"
      },
      "source": [
        "test_labels = []\n",
        "for image, label in test_data.unbatch():\n",
        "  test_labels.append(label)\n"
      ],
      "execution_count": 23,
      "outputs": []
    },
    {
      "cell_type": "code",
      "metadata": {
        "id": "UgiDz36V2FlV"
      },
      "source": [
        "def load_and_prep(path, img_shape=224, scale=True):\n",
        "  img = tf.io.read_file(path)\n",
        "  img = tf.io.decode_image(img)\n",
        "  img = tf.image.resize(img, size =[img_shape, img_shape])\n",
        "  if scale:\n",
        "    return img/255.\n",
        "  else:\n",
        "    return img\n",
        "\n"
      ],
      "execution_count": 30,
      "outputs": []
    },
    {
      "cell_type": "code",
      "metadata": {
        "colab": {
          "base_uri": "https://localhost:8080/",
          "height": 333
        },
        "id": "t6M3ZD-83uJN",
        "outputId": "f569577a-9ec6-437c-8940-38fa51098f01"
      },
      "source": [
        "import random\n",
        "import matplotlib.image as mpimg\n",
        "import matplotlib.pyplot as plt\n",
        "\n",
        "\n",
        "random_folder = random.choice(os.listdir(train_dir))\n",
        "print(random_folder)\n",
        "random_file = random.choice(os.listdir(train_dir+'/'+random_folder))\n",
        "print(random_file)\n",
        "random_image_path = train_dir + '/' + random_folder + '/' + random_file\n",
        "print(random_image_path)\n",
        "\n",
        "img_1 = mpimg.imread(random_image_path) # read in the chosen target image\n",
        "plt.imshow(img_1) # plot the target image\n",
        "plt.title(f\"Original random image from class: {random_folder}\")\n",
        "plt.axis(False);\n",
        "\n",
        "img_2 = load_and_prep(random_image_path)\n",
        "\n",
        "prediction = model.predict(tf.expand_dims(img_2, axis=0)).argmax()\n",
        "prediction, os.listdir(train_dir).index(random_folder)"
      ],
      "execution_count": 46,
      "outputs": [
        {
          "output_type": "stream",
          "name": "stdout",
          "text": [
            "spaghetti_carbonara\n",
            "2794464.jpg\n",
            "101_food_classes_10_percent/train//spaghetti_carbonara/2794464.jpg\n"
          ]
        },
        {
          "output_type": "execute_result",
          "data": {
            "text/plain": [
              "(64, 23)"
            ]
          },
          "metadata": {},
          "execution_count": 46
        },
        {
          "output_type": "display_data",
          "data": {
            "image/png": "[encoded data removed]",
            "text/plain": [
              "<Figure size 432x288 with 1 Axes>"
            ]
          },
          "metadata": {
            "needs_background": "light"
          }
        }
      ]
    },
    {
      "cell_type": "code",
      "metadata": {
        "colab": {
          "base_uri": "https://localhost:8080/",
          "height": 17
        },
        "id": "JGki-iMnxPZJ",
        "outputId": "4faad528-f1a0-4356-f50a-09447fe88197"
      },
      "source": [
        "from google.colab import files\n",
        "import os\n",
        "\n",
        "dir_to_zip = 'Models_checkpoint_EfficientNet_ScalingUp' #@param {type: \"string\"}\n",
        "output_filename = 'Models_checkpoint_EfficientNet_ScalingUp.zip' #@param {type: \"string\"}\n",
        "delete_dir_after_download = \"No\"  #@param ['Yes', 'No']\n",
        "\n",
        "os.system( \"zip -r {} {}\".format( output_filename , dir_to_zip ) )\n",
        "\n",
        "if delete_dir_after_download == \"Yes\":\n",
        "    os.system( \"rm -r {}\".format( dir_to_zip ) )\n",
        "\n",
        "files.download( output_filename )"
      ],
      "execution_count": 49,
      "outputs": [
        {
          "output_type": "display_data",
          "data": {
            "application/javascript": [
              "\n",
              "    async function download(id, filename, size) {\n",
              "      if (!google.colab.kernel.accessAllowed) {\n",
              "        return;\n",
              "      }\n",
              "      const div = document.createElement('div');\n",
              "      const label = document.createElement('label');\n",
              "      label.textContent = `Downloading \"${filename}\": `;\n",
              "      div.appendChild(label);\n",
              "      const progress = document.createElement('progress');\n",
              "      progress.max = size;\n",
              "      div.appendChild(progress);\n",
              "      document.body.appendChild(div);\n",
              "\n",
              "      const buffers = [];\n",
              "      let downloaded = 0;\n",
              "\n",
              "      const channel = await google.colab.kernel.comms.open(id);\n",
              "      // Send a message to notify the kernel that we're ready.\n",
              "      channel.send({})\n",
              "\n",
              "      for await (const message of channel.messages) {\n",
              "        // Send a message to notify the kernel that we're ready.\n",
              "        channel.send({})\n",
              "        if (message.buffers) {\n",
              "          for (const buffer of message.buffers) {\n",
              "            buffers.push(buffer);\n",
              "            downloaded += buffer.byteLength;\n",
              "            progress.value = downloaded;\n",
              "          }\n",
              "        }\n",
              "      }\n",
              "      const blob = new Blob(buffers, {type: 'application/binary'});\n",
              "      const a = document.createElement('a');\n",
              "      a.href = window.URL.createObjectURL(blob);\n",
              "      a.download = filename;\n",
              "      div.appendChild(a);\n",
              "      a.click();\n",
              "      div.remove();\n",
              "    }\n",
              "  "
            ],
            "text/plain": [
              "<IPython.core.display.Javascript object>"
            ]
          },
          "metadata": {}
        },
        {
          "output_type": "display_data",
          "data": {
            "application/javascript": [
              "download(\"download_05aae23b-a82b-4d9d-9939-b7253ed36a7b\", \"Models_checkpoint_EfficientNet_ScalingUp.zip\", 252928434)"
            ],
            "text/plain": [
              "<IPython.core.display.Javascript object>"
            ]
          },
          "metadata": {}
        }
      ]
    },
    {
      "cell_type": "code",
      "metadata": {
        "colab": {
          "base_uri": "https://localhost:8080/",
          "height": 17
        },
        "id": "zobQotsH4OG5",
        "outputId": "fa6e1c0f-769a-45ec-96fd-d345f10c6969"
      },
      "source": [
        "from google.colab import files\n",
        "import os\n",
        "\n",
        "dir_to_zip = '/content/Tensorboard' #@param {type: \"string\"}\n",
        "output_filename = 'Tensorboard.zip' #@param {type: \"string\"}\n",
        "delete_dir_after_download = \"No\"  #@param ['Yes', 'No']\n",
        "\n",
        "os.system( \"zip -r {} {}\".format( output_filename , dir_to_zip ) )\n",
        "\n",
        "if delete_dir_after_download == \"Yes\":\n",
        "    os.system( \"rm -r {}\".format( dir_to_zip ) )\n",
        "\n",
        "files.download( output_filename )"
      ],
      "execution_count": 48,
      "outputs": [
        {
          "output_type": "display_data",
          "data": {
            "application/javascript": [
              "\n",
              "    async function download(id, filename, size) {\n",
              "      if (!google.colab.kernel.accessAllowed) {\n",
              "        return;\n",
              "      }\n",
              "      const div = document.createElement('div');\n",
              "      const label = document.createElement('label');\n",
              "      label.textContent = `Downloading \"${filename}\": `;\n",
              "      div.appendChild(label);\n",
              "      const progress = document.createElement('progress');\n",
              "      progress.max = size;\n",
              "      div.appendChild(progress);\n",
              "      document.body.appendChild(div);\n",
              "\n",
              "      const buffers = [];\n",
              "      let downloaded = 0;\n",
              "\n",
              "      const channel = await google.colab.kernel.comms.open(id);\n",
              "      // Send a message to notify the kernel that we're ready.\n",
              "      channel.send({})\n",
              "\n",
              "      for await (const message of channel.messages) {\n",
              "        // Send a message to notify the kernel that we're ready.\n",
              "        channel.send({})\n",
              "        if (message.buffers) {\n",
              "          for (const buffer of message.buffers) {\n",
              "            buffers.push(buffer);\n",
              "            downloaded += buffer.byteLength;\n",
              "            progress.value = downloaded;\n",
              "          }\n",
              "        }\n",
              "      }\n",
              "      const blob = new Blob(buffers, {type: 'application/binary'});\n",
              "      const a = document.createElement('a');\n",
              "      a.href = window.URL.createObjectURL(blob);\n",
              "      a.download = filename;\n",
              "      div.appendChild(a);\n",
              "      a.click();\n",
              "      div.remove();\n",
              "    }\n",
              "  "
            ],
            "text/plain": [
              "<IPython.core.display.Javascript object>"
            ]
          },
          "metadata": {}
        },
        {
          "output_type": "display_data",
          "data": {
            "application/javascript": [
              "download(\"download_edeeea68-6e8f-4b22-ae07-260aeddba008\", \"Tensorboard.zip\", 137357)"
            ],
            "text/plain": [
              "<IPython.core.display.Javascript object>"
            ]
          },
          "metadata": {}
        }
      ]
    },
    {
      "cell_type": "code",
      "metadata": {
        "id": "YWfgo7UB7N65"
      },
      "source": [
        ""
      ],
      "execution_count": null,
      "outputs": []
    }
  ]
}