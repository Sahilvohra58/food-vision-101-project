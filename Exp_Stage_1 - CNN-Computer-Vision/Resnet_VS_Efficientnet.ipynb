{
  "nbformat": 4,
  "nbformat_minor": 0,
  "metadata": {
    "colab": {
      "name": "Resnet_VS_Efficientnet.ipynb",
      "provenance": [],
      "authorship_tag": "ABX9TyMLMBvJhCJRYR8lHcGszn/s",
      "include_colab_link": true
    },
    "kernelspec": {
      "name": "python3",
      "display_name": "Python 3"
    },
    "language_info": {
      "name": "python"
    }
  },
  "cells": [
    {
      "cell_type": "markdown",
      "metadata": {
        "id": "view-in-github",
        "colab_type": "text"
      },
      "source": [
        "<a href=\"https://colab.research.google.com/github/Sahilvohra58/CNNComputerVision/blob/main/Resnet_VS_Efficientnet.ipynb\" target=\"_parent\"><img src=\"https://colab.research.google.com/assets/colab-badge.svg\" alt=\"Open In Colab\"/></a>"
      ]
    },
    {
      "cell_type": "code",
      "metadata": {
        "id": "WQbCB8TlNT7z",
        "colab": {
          "base_uri": "https://localhost:8080/"
        },
        "outputId": "1cf18663-b99c-4b51-cb93-d25b68812b3c"
      },
      "source": [
        "import zipfile\n",
        "!wget https://storage.googleapis.com/ztm_tf_course/food_vision/10_food_classes_10_percent.zip\n",
        "with zipfile.ZipFile(\"10_food_classes_10_percent.zip\",\"r\") as zip_ref:\n",
        "    zip_ref.extractall()"
      ],
      "execution_count": 1,
      "outputs": [
        {
          "output_type": "stream",
          "name": "stdout",
          "text": [
            "--2021-11-24 15:22:32--  https://storage.googleapis.com/ztm_tf_course/food_vision/10_food_classes_10_percent.zip\n",
            "Resolving storage.googleapis.com (storage.googleapis.com)... 74.125.132.128, 74.125.202.128, 74.125.69.128, ...\n",
            "Connecting to storage.googleapis.com (storage.googleapis.com)|74.125.132.128|:443... connected.\n",
            "HTTP request sent, awaiting response... 200 OK\n",
            "Length: 168546183 (161M) [application/zip]\n",
            "Saving to: ‘10_food_classes_10_percent.zip’\n",
            "\n",
            "10_food_classes_10_ 100%[===================>] 160.74M  60.8MB/s    in 2.6s    \n",
            "\n",
            "2021-11-24 15:22:35 (60.8 MB/s) - ‘10_food_classes_10_percent.zip’ saved [168546183/168546183]\n",
            "\n"
          ]
        }
      ]
    },
    {
      "cell_type": "code",
      "metadata": {
        "colab": {
          "base_uri": "https://localhost:8080/"
        },
        "id": "vkFVBgjpCwlc",
        "outputId": "f8ea2920-f06d-4326-be59-2905b4e775f8"
      },
      "source": [
        "import os\n",
        "\n",
        "for dirpath, dirnames, filenames in os.walk(\"10_food_classes_10_percent\"):\n",
        "  print(f\"There are {len(dirnames)} directories and {len(filenames)} images in '{dirpath}'.\")"
      ],
      "execution_count": 2,
      "outputs": [
        {
          "output_type": "stream",
          "name": "stdout",
          "text": [
            "There are 2 directories and 0 images in '10_food_classes_10_percent'.\n",
            "There are 10 directories and 0 images in '10_food_classes_10_percent/train'.\n",
            "There are 0 directories and 75 images in '10_food_classes_10_percent/train/fried_rice'.\n",
            "There are 0 directories and 75 images in '10_food_classes_10_percent/train/hamburger'.\n",
            "There are 0 directories and 75 images in '10_food_classes_10_percent/train/chicken_wings'.\n",
            "There are 0 directories and 75 images in '10_food_classes_10_percent/train/ice_cream'.\n",
            "There are 0 directories and 75 images in '10_food_classes_10_percent/train/pizza'.\n",
            "There are 0 directories and 75 images in '10_food_classes_10_percent/train/ramen'.\n",
            "There are 0 directories and 75 images in '10_food_classes_10_percent/train/sushi'.\n",
            "There are 0 directories and 75 images in '10_food_classes_10_percent/train/chicken_curry'.\n",
            "There are 0 directories and 75 images in '10_food_classes_10_percent/train/steak'.\n",
            "There are 0 directories and 75 images in '10_food_classes_10_percent/train/grilled_salmon'.\n",
            "There are 10 directories and 0 images in '10_food_classes_10_percent/test'.\n",
            "There are 0 directories and 250 images in '10_food_classes_10_percent/test/fried_rice'.\n",
            "There are 0 directories and 250 images in '10_food_classes_10_percent/test/hamburger'.\n",
            "There are 0 directories and 250 images in '10_food_classes_10_percent/test/chicken_wings'.\n",
            "There are 0 directories and 250 images in '10_food_classes_10_percent/test/ice_cream'.\n",
            "There are 0 directories and 250 images in '10_food_classes_10_percent/test/pizza'.\n",
            "There are 0 directories and 250 images in '10_food_classes_10_percent/test/ramen'.\n",
            "There are 0 directories and 250 images in '10_food_classes_10_percent/test/sushi'.\n",
            "There are 0 directories and 250 images in '10_food_classes_10_percent/test/chicken_curry'.\n",
            "There are 0 directories and 250 images in '10_food_classes_10_percent/test/steak'.\n",
            "There are 0 directories and 250 images in '10_food_classes_10_percent/test/grilled_salmon'.\n"
          ]
        }
      ]
    },
    {
      "cell_type": "code",
      "metadata": {
        "colab": {
          "base_uri": "https://localhost:8080/"
        },
        "id": "UPzY1biCC2Zw",
        "outputId": "1b1a4cd1-945c-4178-dbea-32b55ff04197"
      },
      "source": [
        "from tensorflow.keras.preprocessing.image import ImageDataGenerator\n",
        "\n",
        "Image_shape = (224,224)\n",
        "Batch_size = 32\n",
        "\n",
        "train_dir = '10_food_classes_10_percent/train'\n",
        "test_dir = '10_food_classes_10_percent/test'\n",
        "\n",
        "train_datagen = ImageDataGenerator(rescale = 1/255.) #Since the training data has 75 images per class there is no need to do data augmentation.\n",
        "test_datagen = ImageDataGenerator(rescale = 1/255.)\n",
        "\n",
        "print('Training images:')\n",
        "train_data = train_datagen.flow_from_directory(train_dir, target_size = Image_shape, batch_size = Batch_size, class_mode = 'categorical')\n",
        "\n",
        "print('Test images:')\n",
        "test_data = test_datagen.flow_from_directory(test_dir, target_size = Image_shape, batch_size = Batch_size, class_mode = 'categorical')"
      ],
      "execution_count": 3,
      "outputs": [
        {
          "output_type": "stream",
          "name": "stdout",
          "text": [
            "Training images:\n",
            "Found 750 images belonging to 10 classes.\n",
            "Test images:\n",
            "Found 2500 images belonging to 10 classes.\n"
          ]
        }
      ]
    },
    {
      "cell_type": "markdown",
      "metadata": {
        "id": "3I26na1_EgRx"
      },
      "source": [
        "#Experiment tracking with TensorBoard"
      ]
    },
    {
      "cell_type": "code",
      "metadata": {
        "id": "BUF23xPyEY4l"
      },
      "source": [
        "import datetime\n",
        "def create_tensorboard_callback(dirname, experiment_name):\n",
        "  log_dir = dirname + '/' + experiment_name + '/' + datetime.datetime.now().strftime(\"%Y%m%d-%H%M%S\")\n",
        "  tensorboard_callback = tf.keras.callbacks.TensorBoard(log_dir = log_dir)\n",
        "  print(f'saving TensorBoard log files to: {log_dir}')\n",
        "  return tensorboard_callback"
      ],
      "execution_count": 4,
      "outputs": []
    },
    {
      "cell_type": "code",
      "metadata": {
        "id": "kI0o8dFlG1Er"
      },
      "source": [
        "resnet_url = 'https://tfhub.dev/google/imagenet/resnet_v2_50/feature_vector/4'\n",
        "\n",
        "efficient_url = 'https://tfhub.dev/tensorflow/efficientnet/b0/feature-vector/1'"
      ],
      "execution_count": 5,
      "outputs": []
    },
    {
      "cell_type": "code",
      "metadata": {
        "id": "3ypECTxYHkI8"
      },
      "source": [
        "import tensorflow as tf\n",
        "import tensorflow_hub as hub\n",
        "\n",
        "def create_model(model_url, num_classes = 10):\n",
        "\n",
        "  feature_extraction_layer = hub.KerasLayer(model_url, trainable = False, name = 'feature_extraction_layer', input_shape = Image_shape+(3,))\n",
        "  model = tf.keras.models.Sequential([\n",
        "          feature_extraction_layer,\n",
        "          tf.keras.layers.Dense(10, activation = 'softmax')                         \n",
        "                         ])\n",
        "  return model"
      ],
      "execution_count": 6,
      "outputs": []
    },
    {
      "cell_type": "code",
      "metadata": {
        "colab": {
          "base_uri": "https://localhost:8080/"
        },
        "id": "HfYQ1mkJJ4A0",
        "outputId": "9f68e9ad-af32-4d27-e16f-773129f014b9"
      },
      "source": [
        "resnet_model = create_model(model_url= resnet_url, num_classes=train_data.num_classes)\n",
        "resnet_model.compile(loss = 'categorical_crossentropy', optimizer = tf.keras.optimizers.Adam(), metrics = ['accuracy'])\n",
        "resnet_history = resnet_model.fit(train_data, epochs = 5, steps_per_epoch = len(train_data), validation_data = test_data, validation_steps = len(test_data), callbacks = [create_tensorboard_callback(dirname=\"tensorflow_hub\", experiment_name='Resnet50v2')])"
      ],
      "execution_count": 9,
      "outputs": [
        {
          "output_type": "stream",
          "name": "stdout",
          "text": [
            "saving TensorBoard log files to: tensorflow_hub/Resnet50v2/20211124-152558\n",
            "Epoch 1/5\n",
            "24/24 [==============================] - 27s 940ms/step - loss: 1.7939 - accuracy: 0.3893 - val_loss: 1.1205 - val_accuracy: 0.6496\n",
            "Epoch 2/5\n",
            "24/24 [==============================] - 21s 905ms/step - loss: 0.8397 - accuracy: 0.7480 - val_loss: 0.8123 - val_accuracy: 0.7412\n",
            "Epoch 3/5\n",
            "24/24 [==============================] - 21s 901ms/step - loss: 0.5905 - accuracy: 0.8320 - val_loss: 0.7315 - val_accuracy: 0.7692\n",
            "Epoch 4/5\n",
            "24/24 [==============================] - 21s 895ms/step - loss: 0.4646 - accuracy: 0.8787 - val_loss: 0.7008 - val_accuracy: 0.7716\n",
            "Epoch 5/5\n",
            "24/24 [==============================] - 21s 892ms/step - loss: 0.3636 - accuracy: 0.9227 - val_loss: 0.6552 - val_accuracy: 0.7868\n"
          ]
        }
      ]
    },
    {
      "cell_type": "code",
      "metadata": {
        "colab": {
          "base_uri": "https://localhost:8080/"
        },
        "id": "6SRy61oJMLk9",
        "outputId": "44dc5336-e028-4c9c-f2b6-f1840560cdb1"
      },
      "source": [
        "efficientnet_model = create_model(model_url= efficient_url, num_classes=train_data.num_classes)\n",
        "efficientnet_model.compile(loss = 'categorical_crossentropy', optimizer = tf.keras.optimizers.Adam(), metrics = ['accuracy'])\n",
        "efficientnet_history = efficientnet_model.fit(train_data, epochs = 5, steps_per_epoch = len(train_data), validation_data = test_data, validation_steps = len(test_data), callbacks = [create_tensorboard_callback(dirname=\"tensorflow_hub\", experiment_name='Efficientnetb0')])"
      ],
      "execution_count": 10,
      "outputs": [
        {
          "output_type": "stream",
          "name": "stdout",
          "text": [
            "saving TensorBoard log files to: tensorflow_hub/Resnet50v2/20211124-152804\n",
            "Epoch 1/5\n",
            "24/24 [==============================] - 32s 889ms/step - loss: 1.8365 - accuracy: 0.4520 - val_loss: 1.2926 - val_accuracy: 0.7312\n",
            "Epoch 2/5\n",
            "24/24 [==============================] - 19s 803ms/step - loss: 1.0756 - accuracy: 0.7533 - val_loss: 0.8654 - val_accuracy: 0.8240\n",
            "Epoch 3/5\n",
            "24/24 [==============================] - 19s 797ms/step - loss: 0.7666 - accuracy: 0.8267 - val_loss: 0.6945 - val_accuracy: 0.8464\n",
            "Epoch 4/5\n",
            "24/24 [==============================] - 19s 802ms/step - loss: 0.6188 - accuracy: 0.8600 - val_loss: 0.6120 - val_accuracy: 0.8548\n",
            "Epoch 5/5\n",
            "24/24 [==============================] - 19s 812ms/step - loss: 0.5215 - accuracy: 0.8787 - val_loss: 0.5571 - val_accuracy: 0.8628\n"
          ]
        }
      ]
    },
    {
      "cell_type": "code",
      "metadata": {
        "id": "B4S5Ne29NFFg"
      },
      "source": [
        "import matplotlib.pyplot as plt\n",
        "\n",
        "def plot_history(history_data, title_name):\n",
        "  plt.figure()\n",
        "  plt.plot(history_data.history['loss'], label = 'loss')\n",
        "  plt.plot(history_data.history['val_loss'], label = 'val_loss')\n",
        "  plt.legend(['loss', 'val_loss'])\n",
        "  plt.title(title_name)\n",
        "  plt.show()\n",
        "\n",
        "  plt.figure()\n",
        "  plt.plot(history_data.history['accuracy'], label = 'accuracy')\n",
        "  plt.plot(history_data.history['val_accuracy'], label = 'val_accuracy')\n",
        "  plt.legend()\n",
        "  plt.title(title_name)\n",
        "  plt.show()\n",
        "  return"
      ],
      "execution_count": 13,
      "outputs": []
    },
    {
      "cell_type": "code",
      "metadata": {
        "colab": {
          "base_uri": "https://localhost:8080/",
          "height": 545
        },
        "id": "zyXl98VDLA7n",
        "outputId": "8beb63f2-6e15-40ef-8b98-210af9254fff"
      },
      "source": [
        "plot_history(resnet_history, 'Resnet50V2')\n"
      ],
      "execution_count": 15,
      "outputs": [
        {
          "output_type": "display_data",
          "data": {
            "image/png": "[encoded data removed]",
            "text/plain": [
              "<Figure size 432x288 with 1 Axes>"
            ]
          },
          "metadata": {
            "needs_background": "light"
          }
        },
        {
          "output_type": "display_data",
          "data": {
            "image/png": "[encoded data removed]",
            "text/plain": [
              "<Figure size 432x288 with 1 Axes>"
            ]
          },
          "metadata": {
            "needs_background": "light"
          }
        }
      ]
    },
    {
      "cell_type": "code",
      "metadata": {
        "colab": {
          "base_uri": "https://localhost:8080/",
          "height": 545
        },
        "id": "_QN786MZNqEi",
        "outputId": "e143afad-f0a4-4e55-9766-e0a0fcfed7ea"
      },
      "source": [
        "plot_history(efficientnet_history, 'Efficientnetb0')\n"
      ],
      "execution_count": 16,
      "outputs": [
        {
          "output_type": "display_data",
          "data": {
            "image/png": "[encoded data removed]",
            "text/plain": [
              "<Figure size 432x288 with 1 Axes>"
            ]
          },
          "metadata": {
            "needs_background": "light"
          }
        },
        {
          "output_type": "display_data",
          "data": {
            "image/png": "[encoded data removed]",
            "text/plain": [
              "<Figure size 432x288 with 1 Axes>"
            ]
          },
          "metadata": {
            "needs_background": "light"
          }
        }
      ]
    },
    {
      "cell_type": "code",
      "metadata": {
        "colab": {
          "base_uri": "https://localhost:8080/"
        },
        "id": "_Xw9oAWYN8Fg",
        "outputId": "161e148d-2a74-4125-bf51-16650e639f8b"
      },
      "source": [
        "#Upload TensorBoard dev records\n",
        "logdir = '/content/tensorflow_hub'\n",
        "!tensorboard dev upload --logdir ./tensorflow_hub \\\n",
        "    --name \"EfficientNetB0 vs. ResNet50V2\" \\\n",
        "    --description \"Simple comparison of several hyperparameters\" \\\n",
        "    --one_shot"
      ],
      "execution_count": 28,
      "outputs": [
        {
          "output_type": "stream",
          "name": "stdout",
          "text": [
            "\n",
            "New experiment created. View your TensorBoard at: https://tensorboard.dev/experiment/OFVlNjq0RdKuEL26ZCqJlQ/\n",
            "\n",
            "\u001b[1m[2021-11-24T15:39:42]\u001b[0m Started scanning logdir.\n",
            "\u001b[1m[2021-11-24T15:39:45]\u001b[0m Total uploaded: 90 scalars, 0 tensors, 3 binary objects (7.4 MB)\n",
            "\u001b[1m[2021-11-24T15:39:45]\u001b[0m Done scanning logdir.\n",
            "\n",
            "\n",
            "Done. View your TensorBoard at https://tensorboard.dev/experiment/OFVlNjq0RdKuEL26ZCqJlQ/\n"
          ]
        }
      ]
    },
    {
      "cell_type": "code",
      "metadata": {
        "colab": {
          "base_uri": "https://localhost:8080/"
        },
        "id": "hIcNMQxUOQN4",
        "outputId": "170f3ddc-2d74-4750-b584-ec948f270672"
      },
      "source": [
        "!tensorboard dev list"
      ],
      "execution_count": 29,
      "outputs": [
        {
          "output_type": "stream",
          "name": "stdout",
          "text": [
            "https://tensorboard.dev/experiment/OFVlNjq0RdKuEL26ZCqJlQ/\n",
            "\tName                 EfficientNetB0 vs. ResNet50V2\n",
            "\tDescription          Simple comparison of several hyperparameters\n",
            "\tId                   OFVlNjq0RdKuEL26ZCqJlQ\n",
            "\tCreated              2021-11-24 15:39:42 (2 minutes ago)\n",
            "\tUpdated              2021-11-24 15:39:45 (2 minutes ago)\n",
            "\tRuns                 6\n",
            "\tTags                 5\n",
            "\tScalars              90\n",
            "\tTensor bytes         0\n",
            "\tBinary object bytes  7764614\n",
            "Total: 1 experiment(s)\n"
          ]
        }
      ]
    },
    {
      "cell_type": "code",
      "metadata": {
        "id": "q_yoWk3RQkYc"
      },
      "source": [
        "!tensorboard dev delete --experiment_id [Insert_Experiment_ID]\n",
        "!tensorboard dev list"
      ],
      "execution_count": null,
      "outputs": []
    }
  ]
}